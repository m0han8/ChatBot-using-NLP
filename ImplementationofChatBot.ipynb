import nltk
import random
import os
import ssl
import streamlit as st
from sklearn.feature_extraction.text import TfidfVectorizer
from sklearn.linear_model import LogisticRegression

ssl._create_default_https_context = ssl._create_unverified_context
nltk.data.path.append(os.path.abspath('nltk_data'))
nltk.download('punkt')

intents = [
    {'tag': 'greeting', 'patterns': ['Hi', 'Hello', 'Hey', 'Whats up', 'How are you'], 
     'responses': ['Hi there', 'Hello', 'Hey', 'Nothing much', 'Im fine, thank you']},
    {'tag': 'goodbye', 'patterns': ['Bye', 'See you later', 'Goodbye', 'Take care'], 
     'responses': ['Goodbye', 'See you later', 'Take care']},
    {'tag': 'thanks', 'patterns': ['Thank you', 'Thanks', 'Thanks a lot', 'I appreciate it'], 
     'responses': ["You're welcome", "No problem", "Glad I could help"]},
    {'tag': 'about', 'patterns': ['What can you do', 'Who are you', 'What are you', 'What is your purpose'], 
     'responses': ["I am a chatbot", "My purpose is to assist you", "I can answer questions and provide assistance"]}
]

def preprocess_data(intents):
    patterns, tags = [], []
    for intent in intents:
        for pattern in intent['patterns']:
            patterns.append(pattern)
            tags.append(intent['tag'])
    return patterns, tags

def train_model(patterns, tags):
    vectorizer = TfidfVectorizer()
    X = vectorizer.fit_transform(patterns)
    model = LogisticRegression()
    model.fit(X, tags)
    return vectorizer, model

def get_response(user_input, vectorizer, model, intents):
    user_input_vec = vectorizer.transform([user_input])
    tag = model.predict(user_input_vec)[0]
    for intent in intents:
        if intent['tag'] == tag:
            return random.choice(intent['responses'])
    return "I'm sorry, I don't understand that."

patterns, tags = preprocess_data(intents)
vectorizer, model = train_model(patterns, tags)

print("Chatbot is running. Type 'exit' to stop.")
while True:
    user_input = input("You: ")
    if user_input.lower() == 'exit':
        print("Chatbot: Goodbye!")
        break
    response = get_response(user_input, vectorizer, model, intents)
    print(f"Chatbot: {response}")
